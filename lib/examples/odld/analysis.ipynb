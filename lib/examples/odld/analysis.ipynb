{
 "cells": [
  {
   "cell_type": "markdown",
   "metadata": {
    "collapsed": true
   },
   "source": [
    "**Jupyter: w_ipa**\n",
    "\n",
    "This is an example jupyter/ipython notebook for WESTPA simulations, designed for interactive analysis using w_ipa.  Use this as a template for further browser-based interactive analysis of simulations.\n",
    "\n",
    "You'll want to start each notebook session with the following:\n",
    "\n",
    "```\n",
    "    import w_ipython\n",
    "    w = w_ipython.WIPI()\n",
    "    w.main()\n",
    "```\n",
    "\n",
    "The w object can then be used for analysis.  Schemes can be listed and changed with\n",
    "\n",
    "```\n",
    "    w.list_schemes\n",
    "    w.scheme = SCHEME_NUMBER/NAME\n",
    "```\n",
    "\n",
    "Run help(w), or w.introduction for more details.\n",
    "\n",
    "Happy analyzing!"
   ]
  },
  {
   "cell_type": "code",
   "execution_count": null,
   "metadata": {
    "collapsed": false
   },
   "outputs": [],
   "source": [
    "%matplotlib inline\n",
    "from matplotlib import pyplot as plt\n",
    "import w_ipa\n",
    "w = w_ipa.WIPI()\n",
    "# At startup, it will load or run the analysis schemes specified in the configuration file (typically west.cfg)\n",
    "w.main()\n",
    "w.interface = 'matplotlib'"
   ]
  },
  {
   "cell_type": "code",
   "execution_count": null,
   "metadata": {
    "collapsed": false
   },
   "outputs": [],
   "source": [
    "# Set the iteration to the iteration before the current\n",
    "w.iteration = w.niters - 1\n",
    "# Access the current iteration ditionary, and return an interesting segment:\n",
    "# the heaviest one in the current segment!\n",
    "heaviest_segment = w.current.maxweight['seg_id']\n",
    "print('{} is the walker with the maximum weight!\\n'.format(heaviest_segment))\n",
    "# We can index the current iteration according to the seg_id...\n",
    "print('Indexing according to a seg_id returns all properties on the segment.')\n",
    "print('Children and parents have the same properties/keys.')\n",
    "print(str(w.current[heaviest_segment].keys()) + '\\n')\n",
    "# ... we can also see what its parents were like, or what any children are like, should they exist!\n",
    "print('Where did it come from?  Does it have any descendents?')\n",
    "print('{} is the parent!'.format(w.past[heaviest_segment]['seg_id']))\n",
    "print('{} is/are the children!\\n'.format(w.future[heaviest_segment]['seg_id']))\n",
    "\n",
    "# We can see that the past/future objects are keyed to seg_ids in the CURRENT iteration, always.\n",
    "# We can also see all available properties on the current iteration, and index THOSE according to a segment.\n",
    "# As an example:\n",
    "print('Can we index either way?')\n",
    "print(str((w.current['pcoord'][heaviest_segment] == w.current[heaviest_segment]['pcoord'])[0]) + '\\n')\n",
    "\n",
    "# w.current also contains the output from w_direct/w_reweight/w_assign for the current iteration.\n",
    "# w.past contains the same output, from the prior iteration, keyed to the current seg_id\n",
    "print('What properties exist in the current dictionary?')\n",
    "print(w.current.keys())"
   ]
  },
  {
   "cell_type": "code",
   "execution_count": null,
   "metadata": {
    "collapsed": false
   },
   "outputs": [],
   "source": [
    "# Let's trace our heaviest walker to see its history!\n",
    "hs_trace = w.trace(heaviest_segment)\n",
    "print('What data can we access from our trace for segment {}?'.format(heaviest_segment))\n",
    "print(hs_trace.keys())\n",
    "# Then plot something interesting about it, like the pcoord or the weight changes over time.\n",
    "# The resulting plot is per time point, not iteration.\n",
    "plt.plot(hs_trace['pcoord'])\n",
    "plt.show()\n",
    "plt.plot(hs_trace['weights'])\n",
    "plt.show()\n",
    "# We can plot the state changes over time, too, if we wanted.\n",
    "plt.plot(hs_trace['states'])"
   ]
  },
  {
   "cell_type": "code",
   "execution_count": null,
   "metadata": {
    "collapsed": false
   },
   "outputs": [],
   "source": [
    "# There's a built in plotting interface that can be used to plot interesting things!\n",
    "# Try running this command directly from the terminal in w_ipa.\n",
    "w.current['plot'].kinavg()"
   ]
  },
  {
   "cell_type": "code",
   "execution_count": null,
   "metadata": {
    "collapsed": true
   },
   "outputs": [],
   "source": []
  }
 ],
 "metadata": {
  "anaconda-cloud": {},
  "kernelspec": {
   "display_name": "Python [conda root]",
   "language": "python",
   "name": "conda-root-py"
  },
  "language_info": {
   "codemirror_mode": {
    "name": "ipython",
    "version": 2
   },
   "file_extension": ".py",
   "mimetype": "text/x-python",
   "name": "python",
   "nbconvert_exporter": "python",
   "pygments_lexer": "ipython2",
   "version": "2.7.12"
  }
 },
 "nbformat": 4,
 "nbformat_minor": 1
}
